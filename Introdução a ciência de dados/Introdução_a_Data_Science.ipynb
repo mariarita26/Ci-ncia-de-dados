{
  "nbformat": 4,
  "nbformat_minor": 0,
  "metadata": {
    "colab": {
      "private_outputs": true,
      "provenance": []
    },
    "kernelspec": {
      "name": "python3",
      "display_name": "Python 3"
    },
    "language_info": {
      "name": "python"
    }
  },
  "cells": [
    {
      "cell_type": "code",
      "source": [
        "import pandas as pd\n",
        "import seaborn as sns\n",
        "import matplotlib.pyplot as plt   #biblioteca pra gerar gráficos\n",
        "import numpy as np"
      ],
      "metadata": {
        "id": "850GnjY7QfO2"
      },
      "execution_count": null,
      "outputs": []
    },
    {
      "cell_type": "code",
      "execution_count": null,
      "metadata": {
        "id": "3VavVj2tmrQ7"
      },
      "outputs": [],
      "source": [
        "notas = pd.read_csv(\"ratings.csv\")\n",
        "#head = cabeçalho, só mostra as 5 primeiras linhas\n",
        "notas.head()\n"
      ]
    },
    {
      "cell_type": "code",
      "source": [
        "#shape = mostra o formato da tabela, quantidade de linhas e colunas\n",
        "notas.shape"
      ],
      "metadata": {
        "id": "UwEO1b5FnGyj"
      },
      "execution_count": null,
      "outputs": []
    },
    {
      "cell_type": "code",
      "source": [
        "notas.columns = [\"usuarioID\", \"filmeID\", \"nota\", \"momento\"]\n",
        "notas.head()"
      ],
      "metadata": {
        "id": "45tqVDDjnd_S"
      },
      "execution_count": null,
      "outputs": []
    },
    {
      "cell_type": "code",
      "source": [
        "notas['nota'].unique()"
      ],
      "metadata": {
        "id": "VhMi1d3Sn5zj"
      },
      "execution_count": null,
      "outputs": []
    },
    {
      "cell_type": "code",
      "source": [
        "#contar os valores das notas\n",
        "notas['nota'].value_counts()"
      ],
      "metadata": {
        "id": "UkPItAAfogu3"
      },
      "execution_count": null,
      "outputs": []
    },
    {
      "cell_type": "code",
      "source": [
        "#média das notas\n",
        "print(notas['nota'].mean())\n",
        "\n",
        "#mediana das notas\n",
        "print(notas.nota.median())"
      ],
      "metadata": {
        "id": "EpQNIKHIo1hd"
      },
      "execution_count": null,
      "outputs": []
    },
    {
      "cell_type": "code",
      "source": [
        "#visualizar as notas em forma de histograma\n",
        "notas.nota.plot(kind='hist')"
      ],
      "metadata": {
        "id": "eDL3tVPTeVUO"
      },
      "execution_count": null,
      "outputs": []
    },
    {
      "cell_type": "code",
      "source": [
        "#diversas medidas de dispersão \n",
        "notas.nota.describe()"
      ],
      "metadata": {
        "id": "1i2Qr2w2fnYI"
      },
      "execution_count": null,
      "outputs": []
    },
    {
      "cell_type": "code",
      "source": [
        "#visualizar os dados de outra maneira\n",
        "sns.boxplot(notas.nota)"
      ],
      "metadata": {
        "id": "O9H-vRY4gQRC"
      },
      "execution_count": null,
      "outputs": []
    },
    {
      "cell_type": "code",
      "source": [
        "#visualizar no eixo x\n",
        "sns.boxplot(x=notas.nota)"
      ],
      "metadata": {
        "id": "vwfhXxPytW9E"
      },
      "execution_count": null,
      "outputs": []
    },
    {
      "cell_type": "code",
      "source": [
        "filmes = pd.read_csv(\"movies.csv\")\n",
        "filmes.head()"
      ],
      "metadata": {
        "id": "ONUjE1lgkJDx"
      },
      "execution_count": null,
      "outputs": []
    },
    {
      "cell_type": "code",
      "source": [
        "filmes.columns = ['filmeId', 'titulo', 'generos'] \n",
        "\n",
        "filmes.head()"
      ],
      "metadata": {
        "id": "V4u00XsQkiCv"
      },
      "execution_count": null,
      "outputs": []
    },
    {
      "cell_type": "markdown",
      "source": [
        "# Analisando algumas notas específicas por filme - CAP 2"
      ],
      "metadata": {
        "id": "mHrT5URymApW"
      }
    },
    {
      "cell_type": "code",
      "source": [
        "#notas.head()\n",
        "\n",
        "#pegar as notas em que o filme é igual a Toy Story, filme = 1\n",
        "notas.query(\"filmeID==1\").nota\n"
      ],
      "metadata": {
        "id": "a-dajZszk_oE"
      },
      "execution_count": null,
      "outputs": []
    },
    {
      "cell_type": "code",
      "source": [
        "#Filme Jumanji\n",
        "\n",
        "notas.query(\"filmeID==2\").nota.mean()"
      ],
      "metadata": {
        "id": "H45b0eLImRhK"
      },
      "execution_count": null,
      "outputs": []
    },
    {
      "cell_type": "code",
      "source": [
        "# visualizar a média de cada nota (agrupar)\n",
        "\n",
        "medias_por_filme = notas.groupby(\"filmeID\").nota.mean()\n",
        "\n",
        "medias_por_filme"
      ],
      "metadata": {
        "id": "Wvk6GEjImmA4"
      },
      "execution_count": null,
      "outputs": []
    },
    {
      "cell_type": "code",
      "source": [
        "medias_por_filme.plot(kind='hist')"
      ],
      "metadata": {
        "id": "Z1SV8d7QoDwC"
      },
      "execution_count": null,
      "outputs": []
    },
    {
      "cell_type": "code",
      "source": [
        "sns.boxplot(medias_por_filme)"
      ],
      "metadata": {
        "id": "J2yyNZ-0ocOi"
      },
      "execution_count": null,
      "outputs": []
    },
    {
      "cell_type": "code",
      "source": [
        "sns.histplot(medias_por_filme, bins=10)"
      ],
      "metadata": {
        "id": "a1EmBjP3pXBy"
      },
      "execution_count": null,
      "outputs": []
    },
    {
      "cell_type": "code",
      "source": [
        "sns.distplot(medias_por_filme, bins=10)"
      ],
      "metadata": {
        "id": "wVo3L2z2rDPO"
      },
      "execution_count": null,
      "outputs": []
    },
    {
      "cell_type": "code",
      "source": [
        "plt.hist(medias_por_filme)\n",
        "plt.title(\"Histograma das médias dos filmes\")"
      ],
      "metadata": {
        "id": "rIA77ppYrvHJ"
      },
      "execution_count": null,
      "outputs": []
    },
    {
      "cell_type": "markdown",
      "source": [
        "#Cap 3"
      ],
      "metadata": {
        "id": "pucJsBj6itWR"
      }
    },
    {
      "cell_type": "code",
      "source": [
        "tmdb = pd.read_csv('tmdb_5000_movies.csv')\n",
        "\n",
        "tmdb.head()"
      ],
      "metadata": {
        "id": "JXx74Vb_ivBj"
      },
      "execution_count": null,
      "outputs": []
    },
    {
      "cell_type": "code",
      "source": [
        "tmdb.original_language.unique()   #variavel categorica nominal"
      ],
      "metadata": {
        "id": "Is3ZtCBEjv5T"
      },
      "execution_count": null,
      "outputs": []
    },
    {
      "cell_type": "code",
      "source": [
        "#budget => orcamento => quantitativo contínuo\n"
      ],
      "metadata": {
        "id": "GWPr9Iznkr90"
      },
      "execution_count": null,
      "outputs": []
    },
    {
      "cell_type": "code",
      "source": [
        "#saber quantas vezes aparece cada categoria\n",
        "tmdb.original_language.value_counts()  #assim é apenas uma série"
      ],
      "metadata": {
        "id": "24no8PYEn8nT"
      },
      "execution_count": null,
      "outputs": []
    },
    {
      "cell_type": "code",
      "source": [
        "# pra transformar em uma tabela (data frame), faz o seguinte:\n",
        "tmdb.original_language.value_counts().to_frame()"
      ],
      "metadata": {
        "id": "5dnr-9zrpPKM"
      },
      "execution_count": null,
      "outputs": []
    },
    {
      "cell_type": "code",
      "source": [
        "# pra remover o índice da língua e criar uma nova coluna:\n",
        "contagem_de_lingua = tmdb['original_language'].value_counts().to_frame().reset_index()\n",
        "\n",
        "contagem_de_lingua.columns = ['original_language', 'total']\n",
        "contagem_de_lingua.head()"
      ],
      "metadata": {
        "id": "cDSErY7TpnpO"
      },
      "execution_count": null,
      "outputs": []
    },
    {
      "cell_type": "code",
      "source": [
        "#gráfico de barras, apresentar a língua no eixo x\n",
        "sns.barplot(x='original_language', y='total', data = contagem_de_lingua)"
      ],
      "metadata": {
        "id": "EI4u4XKoqLeX"
      },
      "execution_count": null,
      "outputs": []
    },
    {
      "cell_type": "code",
      "source": [
        "#plot de categoria\n",
        "sns.catplot(x='original_language', kind='count', data=tmdb)"
      ],
      "metadata": {
        "id": "HD45fzp4rBY9"
      },
      "execution_count": null,
      "outputs": []
    },
    {
      "cell_type": "code",
      "source": [
        "#gráfico de pizza (não recomendado em nenhuma situação)\n",
        "plt.pie(contagem_de_lingua['total'], labels = contagem_de_lingua['original_language'])"
      ],
      "metadata": {
        "id": "IOhPCqakuD-3"
      },
      "execution_count": null,
      "outputs": []
    },
    {
      "cell_type": "markdown",
      "source": [
        "Pra melhorar a visualização dos dados, é melhor fazer um gráfico comparativo entre cada categoria, em vez de fazer a comparação por todas as línguas existentes"
      ],
      "metadata": {
        "id": "2h2NCeu9wgsg"
      }
    },
    {
      "cell_type": "code",
      "source": [
        "#separando as categorias pra fazer um gráfico comparativo apenas entre elas\n",
        "total_por_lingua = tmdb['original_language'].value_counts()\n",
        "\n",
        "total_geral = total_por_lingua.sum()\n",
        "total_de_ingles = total_por_lingua.loc['en']\n",
        "total_do_resto = total_geral - total_de_ingles\n",
        "print(total_de_ingles, total_do_resto)"
      ],
      "metadata": {
        "id": "xD1kW-I1vTGI"
      },
      "execution_count": null,
      "outputs": []
    },
    {
      "cell_type": "code",
      "source": [
        "dados = {\n",
        "    'lingua': ['ingles', 'outros'],\n",
        "    'total': [total_de_ingles, total_do_resto]\n",
        "}\n",
        "\n",
        "dados"
      ],
      "metadata": {
        "id": "vNxIcfcxvzzd"
      },
      "execution_count": null,
      "outputs": []
    },
    {
      "cell_type": "code",
      "source": [
        "#criar um data frame em cima dos dados\n",
        "dados = pd.DataFrame(dados)"
      ],
      "metadata": {
        "id": "9DzMfBuIwEq1"
      },
      "execution_count": null,
      "outputs": []
    },
    {
      "cell_type": "code",
      "source": [
        "sns.barplot(x='lingua', y='total', data = dados)"
      ],
      "metadata": {
        "id": "BuVrUePywViU"
      },
      "execution_count": null,
      "outputs": []
    },
    {
      "cell_type": "code",
      "source": [
        "#visualizar os filmes diferentes de inglês\n",
        "total_por_lingua_de_outros_filmes = tmdb.query(\"original_language != 'en'\").original_language.value_counts()\n",
        "\n",
        "total_por_lingua_de_outros_filmes"
      ],
      "metadata": {
        "id": "uqgEdbn3xwi5"
      },
      "execution_count": null,
      "outputs": []
    },
    {
      "cell_type": "code",
      "source": [
        "#sns.catplot(x = \"original_language\", kind='count', data=total_por_lingua_de_outros_filmes)\n",
        "sns.catplot(x='original_language', kind='count', data=total_por_lingua_de_outros_filmes)"
      ],
      "metadata": {
        "id": "F56w0tIEye5f"
      },
      "execution_count": null,
      "outputs": []
    },
    {
      "cell_type": "markdown",
      "source": [
        "# Capítulo 6"
      ],
      "metadata": {
        "id": "OB2JUHYYHihU"
      }
    },
    {
      "cell_type": "code",
      "source": [
        "notas_do_toyStory = notas.query(\"filmeID == 1\")\n",
        "notas_do_jumanji = notas.query(\"filmeID == 2\")\n",
        "\n",
        "#imprimir quantidade de notas dos dois filmes\n",
        "print(len(notas_do_toyStory), len(notas_do_jumanji))"
      ],
      "metadata": {
        "id": "L_pOVY29F3e8"
      },
      "execution_count": null,
      "outputs": []
    },
    {
      "cell_type": "code",
      "source": [
        "print(\"Nota média do Toy Story\", notas_do_toyStory.nota.mean())\n",
        "print(\"Nota média do Jumanji\", notas_do_jumanji.nota.mean())\n",
        "\n",
        "# a diferença entre as pessoas q gostaram e q n gostaram é mt grande?"
      ],
      "metadata": {
        "id": "ef1lWzIXHVqF"
      },
      "execution_count": null,
      "outputs": []
    },
    {
      "cell_type": "code",
      "source": [
        "print(\"Nota mediana do Toy Story\", notas_do_toyStory.nota.median())\n",
        "print(\"Nota mediana do Jumanji\", notas_do_jumanji.nota.median())"
      ],
      "metadata": {
        "id": "Pzz9eH6BIDcW"
      },
      "execution_count": null,
      "outputs": []
    },
    {
      "cell_type": "code",
      "source": [
        "filme1 = np.append(np.array([2.5] * 10), np.array([3.5] * 10))\n",
        "filme2 = np.append(np.array([5.0] * 10), np.array([1.0] * 10))"
      ],
      "metadata": {
        "id": "-cspqUvZIIW0"
      },
      "execution_count": null,
      "outputs": []
    },
    {
      "cell_type": "code",
      "source": [
        "print(filme1.mean(), filme2.mean())"
      ],
      "metadata": {
        "id": "Vr0k3XTKKb48"
      },
      "execution_count": null,
      "outputs": []
    },
    {
      "cell_type": "code",
      "source": [
        "print(np.median(filme1), np.median(filme2))"
      ],
      "metadata": {
        "id": "-bBMVrO6KiH8"
      },
      "execution_count": null,
      "outputs": []
    },
    {
      "cell_type": "code",
      "source": [
        "sns.distplot(filme1)\n",
        "sns.distplot(filme2)"
      ],
      "metadata": {
        "id": "qBJV-KKnKpOT"
      },
      "execution_count": null,
      "outputs": []
    },
    {
      "cell_type": "code",
      "source": [
        "plt.hist(filme1)\n",
        "plt.hist(filme2)"
      ],
      "metadata": {
        "id": "9Y86sgaFLBN1"
      },
      "execution_count": null,
      "outputs": []
    },
    {
      "cell_type": "code",
      "source": [
        "plt.boxplot([filme1, filme2])"
      ],
      "metadata": {
        "id": "MfcnRbVRLJYD"
      },
      "execution_count": null,
      "outputs": []
    },
    {
      "cell_type": "code",
      "source": [
        "sns.boxplot(notas_do_toyStory.nota)\n"
      ],
      "metadata": {
        "id": "Tgkrp2DPLVpk"
      },
      "execution_count": null,
      "outputs": []
    },
    {
      "cell_type": "code",
      "source": [
        "plt.boxplot([notas_do_toyStory.nota, notas_do_jumanji.nota])"
      ],
      "metadata": {
        "id": "ldxIsjTELir7"
      },
      "execution_count": null,
      "outputs": []
    },
    {
      "cell_type": "code",
      "source": [
        "sns.boxplot(x = \"filmeID\", y = \"nota\", data = notas.query(\"filmeID in [1,2]\"))"
      ],
      "metadata": {
        "id": "OnTDNPuZL2y1"
      },
      "execution_count": null,
      "outputs": []
    },
    {
      "cell_type": "code",
      "source": [
        "# desvio padrão \n",
        "notas_do_jumanji.nota.std()"
      ],
      "metadata": {
        "id": "MJDbwe7KM6fz"
      },
      "execution_count": null,
      "outputs": []
    },
    {
      "cell_type": "code",
      "source": [],
      "metadata": {
        "id": "OA20wM2-NLFh"
      },
      "execution_count": null,
      "outputs": []
    }
  ]
}